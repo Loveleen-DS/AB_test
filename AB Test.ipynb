{
 "cells": [
  {
   "cell_type": "markdown",
   "id": "262125f3-ebe7-451d-8e11-64d3d566f7b6",
   "metadata": {},
   "source": [
    "# Evaluating the Impact of a New Landing Page on Conversions"
   ]
  },
  {
   "cell_type": "markdown",
   "id": "95d9e7e3-56ba-477a-95da-0ca47df18a22",
   "metadata": {},
   "source": [
    "## Introduction  \n",
    "In today’s data-driven business landscape, understanding what drives customer behavior is crucial for optimizing key performance indicators (KPIs) such as conversion rates, customer acquisition costs, and overall revenue. Techniques like A/B testing are invaluable when businesses seek to determine whether changes, such as a new landing page, positively impact conversions.\n",
    "\n",
    "In this notebook, I present a straightforward approach to assess whether introducing a new landing page leads to an increase in user conversions. \n",
    "1. Simple Conversion Analysis: We begin by comparing conversion rates between the treatment (new landing page) and control groups to see if there's an initial indication that the new page is performing better.\n",
    "2. One-Tailed T-Test (A/B Test): Next, we perform a one-tailed t-test to statistically assess whether the observed differences in conversion rates between the two groups are significant.\n",
    "3. Regression Analysis: Finally, we use both univariate and multivariate logistic regression to examine the relationship between landing page types and conversion rates. This approach allows us to control for additional variables, providing a more nuanced understanding of the factors influencing customer behavior."
   ]
  },
  {
   "cell_type": "code",
   "execution_count": 46,
   "id": "6d75d6f5-de6b-4137-b538-8d9294d30b07",
   "metadata": {},
   "outputs": [],
   "source": [
    "import numpy as np # linear algebra\n",
    "import pandas as pd # data processing, CSV file I/O (e.g. pd.read_csv)\n",
    "import matplotlib.pyplot as plt # basic visualizations \n",
    "import seaborn as sns # advanced visualizations\n",
    "import scipy.stats as stats\n",
    "import random\n",
    "random.seed(42) #We are setting the seed to assure you get the same answers\n",
    "import warnings\n",
    "warnings.filterwarnings('ignore')"
   ]
  },
  {
   "cell_type": "markdown",
   "id": "cd27d871-0100-492f-be0f-00887204dc18",
   "metadata": {},
   "source": [
    "## Data Overview\n",
    "The dataset used in this analysis includes the following columns:\n",
    "- user_id: Unique identifier for each user.\n",
    "- time: Timestamp of the user's interaction.\n",
    "- group: Indicates whether the user was part of the control group or the treatment group.\n",
    "- landing_page: Specifies whether the user landed on the old page or the new page.\n",
    "- converted: Indicates whether the user converted or not.   \n"
   ]
  },
  {
   "cell_type": "code",
   "execution_count": 2,
   "id": "79f1ef89-3bc7-4708-b2e3-5096f0c7b8a3",
   "metadata": {},
   "outputs": [],
   "source": [
    "#read the data and display the top 5 rows\n",
    "df = pd.read_excel(\"C:/Users/lkaur/Desktop/ab_test.xlsx\")"
   ]
  },
  {
   "cell_type": "code",
   "execution_count": 3,
   "id": "527b460f-d23d-4e7c-840d-b49e2317fdc0",
   "metadata": {},
   "outputs": [
    {
     "name": "stdout",
     "output_type": "stream",
     "text": [
      "*********Shape*********\n",
      "(294478, 5)\n",
      "*********Column names*********\n",
      "Index(['user_id', 'time', 'group', 'landing_page', 'converted'], dtype='object')\n",
      "*********Datatypes*********\n",
      "user_id          int64\n",
      "time            object\n",
      "group           object\n",
      "landing_page    object\n",
      "converted        int64\n",
      "dtype: object\n",
      "*********Head*********\n",
      "   user_id             time      group landing_page  converted\n",
      "0   851104  00:11:48.600000    control     old_page          0\n",
      "1   804228  00:01:45.200000    control     old_page          0\n",
      "2   661590  00:55:06.200000  treatment     new_page          0\n",
      "3   853541  00:28:03.100000  treatment     new_page          0\n",
      "4   864975  00:52:26.200000    control     old_page          1\n",
      "*********Tail*********\n",
      "        user_id             time      group landing_page  converted\n",
      "294473   751197  00:28:38.600000    control     old_page          0\n",
      "294474   945152  00:51:57.100000    control     old_page          0\n",
      "294475   734608  00:45:03.400000    control     old_page          0\n",
      "294476   697314         00:20:29    control     old_page          0\n",
      "294477   715931  00:40:24.500000  treatment     new_page          0\n",
      "*********Description*********\n",
      "             user_id      converted\n",
      "count  294478.000000  294478.000000\n",
      "mean   787974.124733       0.119659\n",
      "std     91210.823776       0.324563\n",
      "min    630000.000000       0.000000\n",
      "25%    709032.250000       0.000000\n",
      "50%    787933.500000       0.000000\n",
      "75%    866911.750000       0.000000\n",
      "max    945999.000000       1.000000\n"
     ]
    }
   ],
   "source": [
    "def check_df(dataframe):\n",
    "    print(\"*********Shape*********\")\n",
    "    print(dataframe.shape)\n",
    "    print(\"*********Column names*********\")\n",
    "    print(dataframe.columns)\n",
    "    print(\"*********Datatypes*********\")\n",
    "    print(dataframe.dtypes)\n",
    "    print(\"*********Head*********\")\n",
    "    print(dataframe.head())\n",
    "    print(\"*********Tail*********\")\n",
    "    print(dataframe.tail())\n",
    "    print(\"*********Description*********\")\n",
    "    print(dataframe.describe())\n",
    "\n",
    "\n",
    "check_df(df)\n",
    "    "
   ]
  },
  {
   "cell_type": "markdown",
   "id": "dd956153-2942-4277-97a5-482dd5cf9384",
   "metadata": {},
   "source": [
    "### Missing Values and Duplicates: \n",
    "We then assess the presence of missing values and duplicate records that could affect our analysis."
   ]
  },
  {
   "cell_type": "code",
   "execution_count": 4,
   "id": "da040e34-62d3-4436-9485-c6c48118a1b3",
   "metadata": {},
   "outputs": [
    {
     "data": {
      "text/plain": [
       "user_id         0\n",
       "time            0\n",
       "group           0\n",
       "landing_page    0\n",
       "converted       0\n",
       "dtype: int64"
      ]
     },
     "execution_count": 4,
     "metadata": {},
     "output_type": "execute_result"
    }
   ],
   "source": [
    "df.isnull().sum()"
   ]
  },
  {
   "cell_type": "code",
   "execution_count": 5,
   "id": "544f3c58-a6c1-4c47-b736-4a56acc9c1a7",
   "metadata": {},
   "outputs": [
    {
     "data": {
      "text/plain": [
       "0"
      ]
     },
     "execution_count": 5,
     "metadata": {},
     "output_type": "execute_result"
    }
   ],
   "source": [
    "df.duplicated().sum()"
   ]
  },
  {
   "cell_type": "markdown",
   "id": "3e118b06-8966-4d04-9776-1a505fe86b47",
   "metadata": {},
   "source": [
    "### Data Preparation: \n",
    "- Re-labeling the group column and encoding it to a binary numerical column with 0 for control and 1 for treatment.\n",
    "- \n",
    "Re-labeling thelanding_pager column and encoding it to a binary numerical column with 0 forold_pagee and 1 fornew_pagee."
   ]
  },
  {
   "cell_type": "code",
   "execution_count": 8,
   "id": "f622b254-c790-4536-8ade-7053fb658165",
   "metadata": {},
   "outputs": [],
   "source": [
    "#encoding it\n",
    "labels = {\"treatment\": 1, \"control\":0}\n",
    "df[\"group\"] = df[\"group\"].map(labels)\n",
    "#converting it into integer\n",
    "df[\"group\"] = df[\"group\"].astype(int)\n",
    "\n",
    "#encoding it\n",
    "labels = {\"new_page\": 1, \"old_page\":0}\n",
    "df[\"landing_page\"] = df[\"landing_page\"].map(labels)\n",
    "#converting it into integer\n",
    "df[\"landing_page\"] = df[\"landing_page\"].astype(int)"
   ]
  },
  {
   "cell_type": "code",
   "execution_count": 9,
   "id": "b1f8e826-d9a2-4ef2-a0f2-a3ec49f933a9",
   "metadata": {
    "scrolled": true
   },
   "outputs": [
    {
     "data": {
      "text/html": [
       "<div>\n",
       "<style scoped>\n",
       "    .dataframe tbody tr th:only-of-type {\n",
       "        vertical-align: middle;\n",
       "    }\n",
       "\n",
       "    .dataframe tbody tr th {\n",
       "        vertical-align: top;\n",
       "    }\n",
       "\n",
       "    .dataframe thead th {\n",
       "        text-align: right;\n",
       "    }\n",
       "</style>\n",
       "<table border=\"1\" class=\"dataframe\">\n",
       "  <thead>\n",
       "    <tr style=\"text-align: right;\">\n",
       "      <th></th>\n",
       "      <th>user_id</th>\n",
       "      <th>time</th>\n",
       "      <th>group</th>\n",
       "      <th>landing_page</th>\n",
       "      <th>converted</th>\n",
       "    </tr>\n",
       "  </thead>\n",
       "  <tbody>\n",
       "    <tr>\n",
       "      <th>0</th>\n",
       "      <td>851104</td>\n",
       "      <td>00:11:48.600000</td>\n",
       "      <td>0</td>\n",
       "      <td>0</td>\n",
       "      <td>0</td>\n",
       "    </tr>\n",
       "    <tr>\n",
       "      <th>1</th>\n",
       "      <td>804228</td>\n",
       "      <td>00:01:45.200000</td>\n",
       "      <td>0</td>\n",
       "      <td>0</td>\n",
       "      <td>0</td>\n",
       "    </tr>\n",
       "    <tr>\n",
       "      <th>2</th>\n",
       "      <td>661590</td>\n",
       "      <td>00:55:06.200000</td>\n",
       "      <td>1</td>\n",
       "      <td>1</td>\n",
       "      <td>0</td>\n",
       "    </tr>\n",
       "    <tr>\n",
       "      <th>3</th>\n",
       "      <td>853541</td>\n",
       "      <td>00:28:03.100000</td>\n",
       "      <td>1</td>\n",
       "      <td>1</td>\n",
       "      <td>0</td>\n",
       "    </tr>\n",
       "    <tr>\n",
       "      <th>4</th>\n",
       "      <td>864975</td>\n",
       "      <td>00:52:26.200000</td>\n",
       "      <td>0</td>\n",
       "      <td>0</td>\n",
       "      <td>1</td>\n",
       "    </tr>\n",
       "    <tr>\n",
       "      <th>...</th>\n",
       "      <td>...</td>\n",
       "      <td>...</td>\n",
       "      <td>...</td>\n",
       "      <td>...</td>\n",
       "      <td>...</td>\n",
       "    </tr>\n",
       "    <tr>\n",
       "      <th>294473</th>\n",
       "      <td>751197</td>\n",
       "      <td>00:28:38.600000</td>\n",
       "      <td>0</td>\n",
       "      <td>0</td>\n",
       "      <td>0</td>\n",
       "    </tr>\n",
       "    <tr>\n",
       "      <th>294474</th>\n",
       "      <td>945152</td>\n",
       "      <td>00:51:57.100000</td>\n",
       "      <td>0</td>\n",
       "      <td>0</td>\n",
       "      <td>0</td>\n",
       "    </tr>\n",
       "    <tr>\n",
       "      <th>294475</th>\n",
       "      <td>734608</td>\n",
       "      <td>00:45:03.400000</td>\n",
       "      <td>0</td>\n",
       "      <td>0</td>\n",
       "      <td>0</td>\n",
       "    </tr>\n",
       "    <tr>\n",
       "      <th>294476</th>\n",
       "      <td>697314</td>\n",
       "      <td>00:20:29</td>\n",
       "      <td>0</td>\n",
       "      <td>0</td>\n",
       "      <td>0</td>\n",
       "    </tr>\n",
       "    <tr>\n",
       "      <th>294477</th>\n",
       "      <td>715931</td>\n",
       "      <td>00:40:24.500000</td>\n",
       "      <td>1</td>\n",
       "      <td>1</td>\n",
       "      <td>0</td>\n",
       "    </tr>\n",
       "  </tbody>\n",
       "</table>\n",
       "<p>294478 rows × 5 columns</p>\n",
       "</div>"
      ],
      "text/plain": [
       "        user_id             time  group  landing_page  converted\n",
       "0        851104  00:11:48.600000      0             0          0\n",
       "1        804228  00:01:45.200000      0             0          0\n",
       "2        661590  00:55:06.200000      1             1          0\n",
       "3        853541  00:28:03.100000      1             1          0\n",
       "4        864975  00:52:26.200000      0             0          1\n",
       "...         ...              ...    ...           ...        ...\n",
       "294473   751197  00:28:38.600000      0             0          0\n",
       "294474   945152  00:51:57.100000      0             0          0\n",
       "294475   734608  00:45:03.400000      0             0          0\n",
       "294476   697314         00:20:29      0             0          0\n",
       "294477   715931  00:40:24.500000      1             1          0\n",
       "\n",
       "[294478 rows x 5 columns]"
      ]
     },
     "execution_count": 9,
     "metadata": {},
     "output_type": "execute_result"
    }
   ],
   "source": [
    "df"
   ]
  },
  {
   "cell_type": "markdown",
   "id": "42da7fec-e942-4922-b150-233c4bf6cca1",
   "metadata": {},
   "source": [
    "### Initial Exploration\n",
    "I started by examining the dataset for any discrepancies between the users assigned to the treatment group and those who actually landed on the new page. A mismatch was identified, indicating potential issues in the data that required further exploration. This step was crucial to ensure the validity of subsequent analysis."
   ]
  },
  {
   "cell_type": "code",
   "execution_count": 11,
   "id": "215a5992-08b0-4c41-b858-bb91712d7649",
   "metadata": {},
   "outputs": [
    {
     "data": {
      "text/html": [
       "<div>\n",
       "<style scoped>\n",
       "    .dataframe tbody tr th:only-of-type {\n",
       "        vertical-align: middle;\n",
       "    }\n",
       "\n",
       "    .dataframe tbody tr th {\n",
       "        vertical-align: top;\n",
       "    }\n",
       "\n",
       "    .dataframe thead th {\n",
       "        text-align: right;\n",
       "    }\n",
       "</style>\n",
       "<table border=\"1\" class=\"dataframe\">\n",
       "  <thead>\n",
       "    <tr style=\"text-align: right;\">\n",
       "      <th></th>\n",
       "      <th>N treatment</th>\n",
       "      <th>N new_page</th>\n",
       "      <th>Difference</th>\n",
       "    </tr>\n",
       "  </thead>\n",
       "  <tbody>\n",
       "    <tr>\n",
       "      <th>0</th>\n",
       "      <td>147276</td>\n",
       "      <td>147239</td>\n",
       "      <td>37</td>\n",
       "    </tr>\n",
       "  </tbody>\n",
       "</table>\n",
       "</div>"
      ],
      "text/plain": [
       "   N treatment  N new_page  Difference\n",
       "0       147276      147239          37"
      ]
     },
     "execution_count": 11,
     "metadata": {},
     "output_type": "execute_result"
    }
   ],
   "source": [
    "#Does the number of new_page and treatment match?\n",
    "n_treat = df[df[\"group\"] == 1].shape[0]\n",
    "n_new_page = df[df[\"landing_page\"] == 1].shape[0]\n",
    "difference = n_treat - n_new_page\n",
    "\n",
    "pd.DataFrame({\n",
    "    'N treatment': [n_treat],\n",
    "    'N new_page': [n_new_page],\n",
    "    'Difference': [difference]\n",
    "})"
   ]
  },
  {
   "cell_type": "markdown",
   "id": "acba4e7a-f872-4f0e-858f-9d927329ba1b",
   "metadata": {},
   "source": [
    "There is mismatch between number of users assigned to treatment and the number of those landed on treatment page. This might indicate a problem with the data and needs further exploration."
   ]
  },
  {
   "cell_type": "markdown",
   "id": "1dfde2ab-a555-4a06-8f99-882e5ca7aaee",
   "metadata": {},
   "source": [
    "### Cleaning and Preparing the Data\n",
    "After identifying the mismatched rows, in the following steps I filtered the dataset to focus on users who correctly landed on the pages they were assigned to. I also removed any duplicate entries to ensure that each user's conversion outcome was only counted once. This cleaning process resulted in a refined dataset that accurately reflected the intended experimental design."
   ]
  },
  {
   "cell_type": "code",
   "execution_count": 12,
   "id": "91643f4f-6400-427b-a08e-a787b3605d6c",
   "metadata": {},
   "outputs": [
    {
     "data": {
      "text/html": [
       "<div>\n",
       "<style scoped>\n",
       "    .dataframe tbody tr th:only-of-type {\n",
       "        vertical-align: middle;\n",
       "    }\n",
       "\n",
       "    .dataframe tbody tr th {\n",
       "        vertical-align: top;\n",
       "    }\n",
       "\n",
       "    .dataframe thead th {\n",
       "        text-align: right;\n",
       "    }\n",
       "</style>\n",
       "<table border=\"1\" class=\"dataframe\">\n",
       "  <thead>\n",
       "    <tr style=\"text-align: right;\">\n",
       "      <th></th>\n",
       "      <th>user_id</th>\n",
       "      <th>time</th>\n",
       "      <th>group</th>\n",
       "      <th>landing_page</th>\n",
       "      <th>converted</th>\n",
       "    </tr>\n",
       "  </thead>\n",
       "  <tbody>\n",
       "    <tr>\n",
       "      <th>308</th>\n",
       "      <td>857184</td>\n",
       "      <td>00:34:59.800000</td>\n",
       "      <td>1</td>\n",
       "      <td>0</td>\n",
       "      <td>0</td>\n",
       "    </tr>\n",
       "    <tr>\n",
       "      <th>327</th>\n",
       "      <td>686623</td>\n",
       "      <td>00:26:40.700000</td>\n",
       "      <td>1</td>\n",
       "      <td>0</td>\n",
       "      <td>0</td>\n",
       "    </tr>\n",
       "    <tr>\n",
       "      <th>357</th>\n",
       "      <td>856078</td>\n",
       "      <td>00:29:30.400000</td>\n",
       "      <td>1</td>\n",
       "      <td>0</td>\n",
       "      <td>0</td>\n",
       "    </tr>\n",
       "    <tr>\n",
       "      <th>685</th>\n",
       "      <td>666385</td>\n",
       "      <td>00:11:54.800000</td>\n",
       "      <td>1</td>\n",
       "      <td>0</td>\n",
       "      <td>0</td>\n",
       "    </tr>\n",
       "    <tr>\n",
       "      <th>713</th>\n",
       "      <td>748761</td>\n",
       "      <td>00:47:44.400000</td>\n",
       "      <td>1</td>\n",
       "      <td>0</td>\n",
       "      <td>0</td>\n",
       "    </tr>\n",
       "    <tr>\n",
       "      <th>...</th>\n",
       "      <td>...</td>\n",
       "      <td>...</td>\n",
       "      <td>...</td>\n",
       "      <td>...</td>\n",
       "      <td>...</td>\n",
       "    </tr>\n",
       "    <tr>\n",
       "      <th>293773</th>\n",
       "      <td>688144</td>\n",
       "      <td>00:34:50.500000</td>\n",
       "      <td>1</td>\n",
       "      <td>0</td>\n",
       "      <td>1</td>\n",
       "    </tr>\n",
       "    <tr>\n",
       "      <th>293817</th>\n",
       "      <td>876037</td>\n",
       "      <td>00:15:09</td>\n",
       "      <td>1</td>\n",
       "      <td>0</td>\n",
       "      <td>1</td>\n",
       "    </tr>\n",
       "    <tr>\n",
       "      <th>293917</th>\n",
       "      <td>738357</td>\n",
       "      <td>00:37:55.700000</td>\n",
       "      <td>1</td>\n",
       "      <td>0</td>\n",
       "      <td>0</td>\n",
       "    </tr>\n",
       "    <tr>\n",
       "      <th>294014</th>\n",
       "      <td>813406</td>\n",
       "      <td>00:25:33.200000</td>\n",
       "      <td>1</td>\n",
       "      <td>0</td>\n",
       "      <td>0</td>\n",
       "    </tr>\n",
       "    <tr>\n",
       "      <th>294252</th>\n",
       "      <td>892498</td>\n",
       "      <td>00:11:10.500000</td>\n",
       "      <td>1</td>\n",
       "      <td>0</td>\n",
       "      <td>0</td>\n",
       "    </tr>\n",
       "  </tbody>\n",
       "</table>\n",
       "<p>1965 rows × 5 columns</p>\n",
       "</div>"
      ],
      "text/plain": [
       "        user_id             time  group  landing_page  converted\n",
       "308      857184  00:34:59.800000      1             0          0\n",
       "327      686623  00:26:40.700000      1             0          0\n",
       "357      856078  00:29:30.400000      1             0          0\n",
       "685      666385  00:11:54.800000      1             0          0\n",
       "713      748761  00:47:44.400000      1             0          0\n",
       "...         ...              ...    ...           ...        ...\n",
       "293773   688144  00:34:50.500000      1             0          1\n",
       "293817   876037         00:15:09      1             0          1\n",
       "293917   738357  00:37:55.700000      1             0          0\n",
       "294014   813406  00:25:33.200000      1             0          0\n",
       "294252   892498  00:11:10.500000      1             0          0\n",
       "\n",
       "[1965 rows x 5 columns]"
      ]
     },
     "execution_count": 12,
     "metadata": {},
     "output_type": "execute_result"
    }
   ],
   "source": [
    "df[(df[\"group\"] == 1) & (df[\"landing_page\"] == 0)]"
   ]
  },
  {
   "cell_type": "code",
   "execution_count": 13,
   "id": "5b8470a6-ea50-4b57-9e9d-9ff244efb17a",
   "metadata": {},
   "outputs": [
    {
     "name": "stdout",
     "output_type": "stream",
     "text": [
      "Number of mismatched rows: 3893 rows\n",
      "Percent of mismatched rows: 1.32 percent\n"
     ]
    }
   ],
   "source": [
    "df_mismatch = df[(df[\"group\"] == 1) & (df[\"landing_page\"] == 0)\n",
    "               |(df[\"group\"] == 0) & (df[\"landing_page\"] == 1)]\n",
    "\n",
    "n_mismatch = df_mismatch.shape[0]\n",
    "\n",
    "percent_mismatch = round(n_mismatch / len(df) * 100, 2)\n",
    "print(f'Number of mismatched rows: {n_mismatch} rows')\n",
    "print(f'Percent of mismatched rows: {percent_mismatch} percent')"
   ]
  },
  {
   "cell_type": "markdown",
   "id": "bfe29c18-819e-4e7d-911e-9737e9cd224b",
   "metadata": {},
   "source": [
    "As you can see, there are 3893 rows where treatment does not match with new_page or control does not match with old_page, i cannot be sure if this row truly received the new or old page. So I will remove these rows."
   ]
  },
  {
   "cell_type": "code",
   "execution_count": 14,
   "id": "b8f16b7a-8aed-401b-96cb-56b86780b9db",
   "metadata": {},
   "outputs": [
    {
     "data": {
      "text/plain": [
       "290585"
      ]
     },
     "execution_count": 14,
     "metadata": {},
     "output_type": "execute_result"
    }
   ],
   "source": [
    "df2 = df[(df[\"group\"] == 1) & (df[\"landing_page\"] == 1)\n",
    "        |(df[\"group\"] == 0) & (df[\"landing_page\"] == 0)]\n",
    "\n",
    "len(df2)"
   ]
  },
  {
   "cell_type": "code",
   "execution_count": 15,
   "id": "2a85ea56-958f-480d-9d45-1795385cf5fd",
   "metadata": {},
   "outputs": [
    {
     "data": {
      "text/html": [
       "<div>\n",
       "<style scoped>\n",
       "    .dataframe tbody tr th:only-of-type {\n",
       "        vertical-align: middle;\n",
       "    }\n",
       "\n",
       "    .dataframe tbody tr th {\n",
       "        vertical-align: top;\n",
       "    }\n",
       "\n",
       "    .dataframe thead th {\n",
       "        text-align: right;\n",
       "    }\n",
       "</style>\n",
       "<table border=\"1\" class=\"dataframe\">\n",
       "  <thead>\n",
       "    <tr style=\"text-align: right;\">\n",
       "      <th></th>\n",
       "      <th>user_id</th>\n",
       "      <th>time</th>\n",
       "      <th>group</th>\n",
       "      <th>landing_page</th>\n",
       "      <th>converted</th>\n",
       "    </tr>\n",
       "  </thead>\n",
       "  <tbody>\n",
       "    <tr>\n",
       "      <th>0</th>\n",
       "      <td>851104</td>\n",
       "      <td>00:11:48.600000</td>\n",
       "      <td>0</td>\n",
       "      <td>0</td>\n",
       "      <td>0</td>\n",
       "    </tr>\n",
       "    <tr>\n",
       "      <th>1</th>\n",
       "      <td>804228</td>\n",
       "      <td>00:01:45.200000</td>\n",
       "      <td>0</td>\n",
       "      <td>0</td>\n",
       "      <td>0</td>\n",
       "    </tr>\n",
       "    <tr>\n",
       "      <th>2</th>\n",
       "      <td>661590</td>\n",
       "      <td>00:55:06.200000</td>\n",
       "      <td>1</td>\n",
       "      <td>1</td>\n",
       "      <td>0</td>\n",
       "    </tr>\n",
       "    <tr>\n",
       "      <th>3</th>\n",
       "      <td>853541</td>\n",
       "      <td>00:28:03.100000</td>\n",
       "      <td>1</td>\n",
       "      <td>1</td>\n",
       "      <td>0</td>\n",
       "    </tr>\n",
       "    <tr>\n",
       "      <th>4</th>\n",
       "      <td>864975</td>\n",
       "      <td>00:52:26.200000</td>\n",
       "      <td>0</td>\n",
       "      <td>0</td>\n",
       "      <td>1</td>\n",
       "    </tr>\n",
       "  </tbody>\n",
       "</table>\n",
       "</div>"
      ],
      "text/plain": [
       "   user_id             time  group  landing_page  converted\n",
       "0   851104  00:11:48.600000      0             0          0\n",
       "1   804228  00:01:45.200000      0             0          0\n",
       "2   661590  00:55:06.200000      1             1          0\n",
       "3   853541  00:28:03.100000      1             1          0\n",
       "4   864975  00:52:26.200000      0             0          1"
      ]
     },
     "execution_count": 15,
     "metadata": {},
     "output_type": "execute_result"
    }
   ],
   "source": [
    "df2.head()"
   ]
  },
  {
   "cell_type": "code",
   "execution_count": 16,
   "id": "e0f2a242-4e06-49ae-9c95-d67b2d15ab32",
   "metadata": {},
   "outputs": [
    {
     "data": {
      "text/plain": [
       "0"
      ]
     },
     "execution_count": 16,
     "metadata": {},
     "output_type": "execute_result"
    }
   ],
   "source": [
    "# Double Check all of the correct rows were removed - this should be 0\n",
    "df2[((df2['group'] == 1) == (df2['landing_page'] == 1)) == False].shape[0]"
   ]
  },
  {
   "cell_type": "code",
   "execution_count": 18,
   "id": "7841fec9-d538-4dbe-a03c-2b6e3169b44c",
   "metadata": {},
   "outputs": [
    {
     "data": {
      "text/plain": [
       "290584"
      ]
     },
     "execution_count": 18,
     "metadata": {},
     "output_type": "execute_result"
    }
   ],
   "source": [
    "# Addtionally there should be iser_id per row in the dataframe \n",
    "df2.user_id.nunique()"
   ]
  },
  {
   "cell_type": "code",
   "execution_count": 19,
   "id": "6422dee0-54cf-468a-97b9-88548ec699a1",
   "metadata": {},
   "outputs": [
    {
     "data": {
      "text/plain": [
       "1"
      ]
     },
     "execution_count": 19,
     "metadata": {},
     "output_type": "execute_result"
    }
   ],
   "source": [
    "# number of repeated ids in df2\n",
    "len(df2) - df2.user_id.nunique()"
   ]
  },
  {
   "cell_type": "code",
   "execution_count": 21,
   "id": "3338c703-66d4-4e4d-b2fd-92df37eb9701",
   "metadata": {},
   "outputs": [],
   "source": [
    "#drop the duplicated row\n",
    "df2 = df2.drop_duplicates(\"user_id\") "
   ]
  },
  {
   "cell_type": "code",
   "execution_count": 22,
   "id": "52dd7f4b-ce78-40b2-a7f5-561b923fe1f8",
   "metadata": {},
   "outputs": [
    {
     "data": {
      "text/plain": [
       "0"
      ]
     },
     "execution_count": 22,
     "metadata": {},
     "output_type": "execute_result"
    }
   ],
   "source": [
    "# Douple Check that it is actually dropped\n",
    "len(df2) - df2.user_id.nunique()"
   ]
  },
  {
   "cell_type": "markdown",
   "id": "350d1635-e887-4aca-98ed-6a07a826b1a8",
   "metadata": {},
   "source": [
    "## Conversion Rate Analysis 1 - Probability\n",
    "The first approach would be to assess if the treatment was better than control using the conversion rates."
   ]
  },
  {
   "cell_type": "code",
   "execution_count": 26,
   "id": "25181135-42be-41af-a347-d609d27db1e9",
   "metadata": {},
   "outputs": [
    {
     "data": {
      "text/plain": [
       "11.959708724499627"
      ]
     },
     "execution_count": 26,
     "metadata": {},
     "output_type": "execute_result"
    }
   ],
   "source": [
    "# The probability of an individual converting regardless of the page they receive\n",
    "df2.converted.mean() * 100"
   ]
  },
  {
   "cell_type": "code",
   "execution_count": 27,
   "id": "62b12e9e-7443-44f2-b170-49d77e701a0c",
   "metadata": {},
   "outputs": [
    {
     "name": "stdout",
     "output_type": "stream",
     "text": [
      "Control group mean conversion rate: 12.04%\n",
      "Treatment group mean conversion rate: 11.88%\n"
     ]
    }
   ],
   "source": [
    "#Given that an individual was in the control group, what is the probability they converted?\n",
    "#Given that an individual was in the treatment group, what is the probability they converted?\n",
    "# Calculate mean conversion rate for control group\n",
    "control_mean_conversion = df2[df2[\"group\"] == 0][\"converted\"].mean() * 100\n",
    "\n",
    "# Calculate mean conversion rate for treatment group\n",
    "treatment_mean_conversion = df2[df2[\"group\"] == 1][\"converted\"].mean() * 100\n",
    "\n",
    "print(f\"Control group mean conversion rate: {control_mean_conversion:.2f}%\")\n",
    "print(f\"Treatment group mean conversion rate: {treatment_mean_conversion:.2f}%\")"
   ]
  },
  {
   "cell_type": "code",
   "execution_count": 28,
   "id": "d1bc51c6-684a-441f-8a76-ca585a40f787",
   "metadata": {},
   "outputs": [
    {
     "data": {
      "text/html": [
       "<div>\n",
       "<style scoped>\n",
       "    .dataframe tbody tr th:only-of-type {\n",
       "        vertical-align: middle;\n",
       "    }\n",
       "\n",
       "    .dataframe tbody tr th {\n",
       "        vertical-align: top;\n",
       "    }\n",
       "\n",
       "    .dataframe thead th {\n",
       "        text-align: right;\n",
       "    }\n",
       "</style>\n",
       "<table border=\"1\" class=\"dataframe\">\n",
       "  <thead>\n",
       "    <tr style=\"text-align: right;\">\n",
       "      <th></th>\n",
       "      <th>proportion</th>\n",
       "    </tr>\n",
       "    <tr>\n",
       "      <th>landing_page</th>\n",
       "      <th></th>\n",
       "    </tr>\n",
       "  </thead>\n",
       "  <tbody>\n",
       "    <tr>\n",
       "      <th>1</th>\n",
       "      <td>50.006194</td>\n",
       "    </tr>\n",
       "    <tr>\n",
       "      <th>0</th>\n",
       "      <td>49.993806</td>\n",
       "    </tr>\n",
       "  </tbody>\n",
       "</table>\n",
       "</div>"
      ],
      "text/plain": [
       "              proportion\n",
       "landing_page            \n",
       "1              50.006194\n",
       "0              49.993806"
      ]
     },
     "execution_count": 28,
     "metadata": {},
     "output_type": "execute_result"
    }
   ],
   "source": [
    "#What is the probability that an individual received the new page?\n",
    "pd.DataFrame(df2.landing_page.value_counts(normalize = True) * 100)"
   ]
  },
  {
   "cell_type": "markdown",
   "id": "f7700298-b989-439e-a37c-801154d0c7a9",
   "metadata": {},
   "source": [
    "**Findings**  \n",
    "The overall conversion rate was approximately 11.96%, with the control group converting at 12.04% and the treatment group at 11.88% (with almost equal chance of a user getting old or new page). These preliminary findings suggested no significant difference in conversion rates between the old and new pages."
   ]
  },
  {
   "cell_type": "markdown",
   "id": "1d7e266f-4fa3-4d8b-817f-5fe7c4b6a77e",
   "metadata": {},
   "source": [
    "## Conversion Rate Analysis 2 - A/B Test\n",
    "To rigorously assess whether the new landing page was better than the old one, I conducted an A/B test. Using a one-tailed hypothesis test, I checked if the new page led to significantly higher conversions."
   ]
  },
  {
   "cell_type": "markdown",
   "id": "10d34cea-985b-4f04-87da-b3a58c5ae6f2",
   "metadata": {},
   "source": [
    "### One-tailed hypothesis test"
   ]
  },
  {
   "cell_type": "code",
   "execution_count": 30,
   "id": "4e055cc4-f9f6-449b-bec3-933630a6e8c2",
   "metadata": {},
   "outputs": [
    {
     "name": "stdout",
     "output_type": "stream",
     "text": [
      "P_value is 0.9677388921534111\n",
      "Fail to reject null hypothesis: No significant evidence that the new page is better.\n"
     ]
    }
   ],
   "source": [
    "# Calculate conversion rates for old and new pages\n",
    "control_group = df2[df2[\"landing_page\"] == 0]\n",
    "treatment_group = df2[df2[\"landing_page\"] == 1]\n",
    "\n",
    "p_old = control_group[\"converted\"].mean()\n",
    "p_new = treatment_group[\"converted\"].mean()\n",
    "\n",
    "# Perform one-tailed hypothesis test (right-tailed)\n",
    "alpha = 0.05\n",
    "z_score = (p_new - p_old) / (p_old * (1 - p_old) / len(control_group))**0.5\n",
    "p_value = 1 - stats.norm.cdf(z_score)\n",
    "print(\"P_value is\", p_value)\n",
    "if p_value < alpha:\n",
    "    print(\"Reject null hypothesis: The new page is better.\")\n",
    "else:\n",
    "    print(\"Fail to reject null hypothesis: No significant evidence that the new page is better.\")"
   ]
  },
  {
   "cell_type": "markdown",
   "id": "c5a205e1-5a09-4196-9824-71a619d2077a",
   "metadata": {},
   "source": [
    "### One-tailed hypothesis test with bootstrap sampling \n",
    "To further validate the above conclusion, I performed bootstrap sampling with 1,000 iterations."
   ]
  },
  {
   "cell_type": "code",
   "execution_count": 31,
   "id": "997ae782-c27d-4d02-8c6c-87736d6d4a50",
   "metadata": {
    "scrolled": true
   },
   "outputs": [
    {
     "name": "stdout",
     "output_type": "stream",
     "text": [
      "Significant samples (p < 0.05): 10/1000\n"
     ]
    }
   ],
   "source": [
    "num_samples = 1000\n",
    "\n",
    "# Initialize an empty list to store p-values\n",
    "p_values = []\n",
    "\n",
    "for _ in range(num_samples):\n",
    "    # Generate a bootstrap sample\n",
    "    sample = df2.sample(len(df2), replace=True)\n",
    "    \n",
    "    # Calculate conversion rates for old and new pages\n",
    "    control_group = sample[sample[\"landing_page\"] == 0]\n",
    "    treatment_group = sample[sample[\"landing_page\"] == 1]\n",
    "    p_old = control_group[\"converted\"].mean()\n",
    "    p_new = treatment_group[\"converted\"].mean()\n",
    "    \n",
    "    # Perform one-tailed hypothesis test\n",
    "    z_score = (p_new - p_old) / (p_old * (1 - p_old) / len(control_group))**0.5\n",
    "    p_value = 1 - stats.norm.cdf(z_score)\n",
    "    p_values.append(p_value)\n",
    "\n",
    "# Count how many p-values are less than 0.05\n",
    "significant_samples = sum(p < 0.05 for p in p_values)\n",
    "\n",
    "print(f\"Significant samples (p < 0.05): {significant_samples}/{num_samples}\")"
   ]
  },
  {
   "cell_type": "markdown",
   "id": "34bbacc6-0f2a-4e61-9f8f-1928b615e44e",
   "metadata": {},
   "source": [
    "**Findings**  \n",
    "The A/B test results (with and without sampling) consistently showed that there was no significant improvement in conversions with the new page."
   ]
  },
  {
   "cell_type": "markdown",
   "id": "daab7b21-de9f-4a3c-9b20-55739773b648",
   "metadata": {},
   "source": [
    "## Conversion Rate Analysis 3 - Regression\n",
    "\n",
    "We transition from the classical A/B testing methods to a more sophisticated approach—logistic regression. This method allowsed to explore the relationship between the page a user lands on and their likelihood of conversion, while also accounting for potential confounding factors like the country in which a user resides.  \n"
   ]
  },
  {
   "cell_type": "markdown",
   "id": "10af3d07-d169-4688-9ed8-ff38cdcccc2a",
   "metadata": {},
   "source": [
    "### Logistic Regression - Univariate\n",
    "Given that the outcome variable, conversion, is binary (converted or not), logistic regression was the appropriate choice. To ensure the model could interpret the data correctly, I first added an intercept column to our dataset. The intercept represents the baseline probability of conversion when all other variables are held constant. The independent variable here was the column 'Group'."
   ]
  },
  {
   "cell_type": "code",
   "execution_count": 32,
   "id": "a19b1ee3-e120-4cab-87c4-7f1cb957c042",
   "metadata": {},
   "outputs": [
    {
     "data": {
      "text/html": [
       "<div>\n",
       "<style scoped>\n",
       "    .dataframe tbody tr th:only-of-type {\n",
       "        vertical-align: middle;\n",
       "    }\n",
       "\n",
       "    .dataframe tbody tr th {\n",
       "        vertical-align: top;\n",
       "    }\n",
       "\n",
       "    .dataframe thead th {\n",
       "        text-align: right;\n",
       "    }\n",
       "</style>\n",
       "<table border=\"1\" class=\"dataframe\">\n",
       "  <thead>\n",
       "    <tr style=\"text-align: right;\">\n",
       "      <th></th>\n",
       "      <th>user_id</th>\n",
       "      <th>time</th>\n",
       "      <th>group</th>\n",
       "      <th>landing_page</th>\n",
       "      <th>converted</th>\n",
       "      <th>intercept</th>\n",
       "    </tr>\n",
       "  </thead>\n",
       "  <tbody>\n",
       "    <tr>\n",
       "      <th>0</th>\n",
       "      <td>851104</td>\n",
       "      <td>00:11:48.600000</td>\n",
       "      <td>0</td>\n",
       "      <td>0</td>\n",
       "      <td>0</td>\n",
       "      <td>1</td>\n",
       "    </tr>\n",
       "    <tr>\n",
       "      <th>1</th>\n",
       "      <td>804228</td>\n",
       "      <td>00:01:45.200000</td>\n",
       "      <td>0</td>\n",
       "      <td>0</td>\n",
       "      <td>0</td>\n",
       "      <td>1</td>\n",
       "    </tr>\n",
       "    <tr>\n",
       "      <th>2</th>\n",
       "      <td>661590</td>\n",
       "      <td>00:55:06.200000</td>\n",
       "      <td>1</td>\n",
       "      <td>1</td>\n",
       "      <td>0</td>\n",
       "      <td>1</td>\n",
       "    </tr>\n",
       "    <tr>\n",
       "      <th>3</th>\n",
       "      <td>853541</td>\n",
       "      <td>00:28:03.100000</td>\n",
       "      <td>1</td>\n",
       "      <td>1</td>\n",
       "      <td>0</td>\n",
       "      <td>1</td>\n",
       "    </tr>\n",
       "    <tr>\n",
       "      <th>4</th>\n",
       "      <td>864975</td>\n",
       "      <td>00:52:26.200000</td>\n",
       "      <td>0</td>\n",
       "      <td>0</td>\n",
       "      <td>1</td>\n",
       "      <td>1</td>\n",
       "    </tr>\n",
       "  </tbody>\n",
       "</table>\n",
       "</div>"
      ],
      "text/plain": [
       "   user_id             time  group  landing_page  converted  intercept\n",
       "0   851104  00:11:48.600000      0             0          0          1\n",
       "1   804228  00:01:45.200000      0             0          0          1\n",
       "2   661590  00:55:06.200000      1             1          0          1\n",
       "3   853541  00:28:03.100000      1             1          0          1\n",
       "4   864975  00:52:26.200000      0             0          1          1"
      ]
     },
     "execution_count": 32,
     "metadata": {},
     "output_type": "execute_result"
    }
   ],
   "source": [
    "# Creat the intercept \n",
    "df2[\"intercept\"] = 1\n",
    "df2.head()"
   ]
  },
  {
   "cell_type": "code",
   "execution_count": 33,
   "id": "12ce329c-81f1-4eb1-820f-d331d75abed2",
   "metadata": {},
   "outputs": [
    {
     "name": "stdout",
     "output_type": "stream",
     "text": [
      "Requirement already satisfied: statsmodels in c:\\users\\lkaur\\appdata\\local\\programs\\python\\python312\\lib\\site-packages (0.14.2)\n",
      "Requirement already satisfied: numpy>=1.22.3 in c:\\users\\lkaur\\appdata\\local\\programs\\python\\python312\\lib\\site-packages (from statsmodels) (1.26.4)\n",
      "Requirement already satisfied: scipy!=1.9.2,>=1.8 in c:\\users\\lkaur\\appdata\\local\\programs\\python\\python312\\lib\\site-packages (from statsmodels) (1.13.1)\n",
      "Requirement already satisfied: pandas!=2.1.0,>=1.4 in c:\\users\\lkaur\\appdata\\local\\programs\\python\\python312\\lib\\site-packages (from statsmodels) (2.2.1)\n",
      "Requirement already satisfied: patsy>=0.5.6 in c:\\users\\lkaur\\appdata\\local\\programs\\python\\python312\\lib\\site-packages (from statsmodels) (0.5.6)\n",
      "Requirement already satisfied: packaging>=21.3 in c:\\users\\lkaur\\appdata\\local\\programs\\python\\python312\\lib\\site-packages (from statsmodels) (23.2)\n",
      "Requirement already satisfied: python-dateutil>=2.8.2 in c:\\users\\lkaur\\appdata\\local\\programs\\python\\python312\\lib\\site-packages (from pandas!=2.1.0,>=1.4->statsmodels) (2.8.2)\n",
      "Requirement already satisfied: pytz>=2020.1 in c:\\users\\lkaur\\appdata\\local\\programs\\python\\python312\\lib\\site-packages (from pandas!=2.1.0,>=1.4->statsmodels) (2024.1)\n",
      "Requirement already satisfied: tzdata>=2022.7 in c:\\users\\lkaur\\appdata\\local\\programs\\python\\python312\\lib\\site-packages (from pandas!=2.1.0,>=1.4->statsmodels) (2024.1)\n",
      "Requirement already satisfied: six in c:\\users\\lkaur\\appdata\\local\\programs\\python\\python312\\lib\\site-packages (from patsy>=0.5.6->statsmodels) (1.16.0)\n"
     ]
    },
    {
     "name": "stderr",
     "output_type": "stream",
     "text": [
      "\n",
      "[notice] A new release of pip is available: 23.2.1 -> 24.2\n",
      "[notice] To update, run: python.exe -m pip install --upgrade pip\n"
     ]
    },
    {
     "name": "stdout",
     "output_type": "stream",
     "text": [
      "Optimization terminated successfully.\n",
      "         Current function value: 0.366118\n",
      "         Iterations 6\n"
     ]
    },
    {
     "data": {
      "text/html": [
       "<table class=\"simpletable\">\n",
       "<caption>Logit Regression Results</caption>\n",
       "<tr>\n",
       "  <th>Dep. Variable:</th>       <td>converted</td>    <th>  No. Observations:  </th>   <td>290584</td>   \n",
       "</tr>\n",
       "<tr>\n",
       "  <th>Model:</th>                 <td>Logit</td>      <th>  Df Residuals:      </th>   <td>290582</td>   \n",
       "</tr>\n",
       "<tr>\n",
       "  <th>Method:</th>                 <td>MLE</td>       <th>  Df Model:          </th>   <td>     1</td>   \n",
       "</tr>\n",
       "<tr>\n",
       "  <th>Date:</th>            <td>Mon, 19 Aug 2024</td> <th>  Pseudo R-squ.:     </th>  <td>8.077e-06</td> \n",
       "</tr>\n",
       "<tr>\n",
       "  <th>Time:</th>                <td>16:56:08</td>     <th>  Log-Likelihood:    </th> <td>-1.0639e+05</td>\n",
       "</tr>\n",
       "<tr>\n",
       "  <th>converged:</th>             <td>True</td>       <th>  LL-Null:           </th> <td>-1.0639e+05</td>\n",
       "</tr>\n",
       "<tr>\n",
       "  <th>Covariance Type:</th>     <td>nonrobust</td>    <th>  LLR p-value:       </th>   <td>0.1899</td>   \n",
       "</tr>\n",
       "</table>\n",
       "<table class=\"simpletable\">\n",
       "<tr>\n",
       "      <td></td>         <th>coef</th>     <th>std err</th>      <th>z</th>      <th>P>|z|</th>  <th>[0.025</th>    <th>0.975]</th>  \n",
       "</tr>\n",
       "<tr>\n",
       "  <th>intercept</th> <td>   -1.9888</td> <td>    0.008</td> <td> -246.669</td> <td> 0.000</td> <td>   -2.005</td> <td>   -1.973</td>\n",
       "</tr>\n",
       "<tr>\n",
       "  <th>group</th>     <td>   -0.0150</td> <td>    0.011</td> <td>   -1.311</td> <td> 0.190</td> <td>   -0.037</td> <td>    0.007</td>\n",
       "</tr>\n",
       "</table>"
      ],
      "text/latex": [
       "\\begin{center}\n",
       "\\begin{tabular}{lclc}\n",
       "\\toprule\n",
       "\\textbf{Dep. Variable:}   &    converted     & \\textbf{  No. Observations:  } &    290584    \\\\\n",
       "\\textbf{Model:}           &      Logit       & \\textbf{  Df Residuals:      } &    290582    \\\\\n",
       "\\textbf{Method:}          &       MLE        & \\textbf{  Df Model:          } &         1    \\\\\n",
       "\\textbf{Date:}            & Mon, 19 Aug 2024 & \\textbf{  Pseudo R-squ.:     } &  8.077e-06   \\\\\n",
       "\\textbf{Time:}            &     16:56:08     & \\textbf{  Log-Likelihood:    } & -1.0639e+05  \\\\\n",
       "\\textbf{converged:}       &       True       & \\textbf{  LL-Null:           } & -1.0639e+05  \\\\\n",
       "\\textbf{Covariance Type:} &    nonrobust     & \\textbf{  LLR p-value:       } &    0.1899    \\\\\n",
       "\\bottomrule\n",
       "\\end{tabular}\n",
       "\\begin{tabular}{lcccccc}\n",
       "                   & \\textbf{coef} & \\textbf{std err} & \\textbf{z} & \\textbf{P$> |$z$|$} & \\textbf{[0.025} & \\textbf{0.975]}  \\\\\n",
       "\\midrule\n",
       "\\textbf{intercept} &      -1.9888  &        0.008     &  -246.669  &         0.000        &       -2.005    &       -1.973     \\\\\n",
       "\\textbf{group}     &      -0.0150  &        0.011     &    -1.311  &         0.190        &       -0.037    &        0.007     \\\\\n",
       "\\bottomrule\n",
       "\\end{tabular}\n",
       "%\\caption{Logit Regression Results}\n",
       "\\end{center}"
      ],
      "text/plain": [
       "<class 'statsmodels.iolib.summary.Summary'>\n",
       "\"\"\"\n",
       "                           Logit Regression Results                           \n",
       "==============================================================================\n",
       "Dep. Variable:              converted   No. Observations:               290584\n",
       "Model:                          Logit   Df Residuals:                   290582\n",
       "Method:                           MLE   Df Model:                            1\n",
       "Date:                Mon, 19 Aug 2024   Pseudo R-squ.:               8.077e-06\n",
       "Time:                        16:56:08   Log-Likelihood:            -1.0639e+05\n",
       "converged:                       True   LL-Null:                   -1.0639e+05\n",
       "Covariance Type:            nonrobust   LLR p-value:                    0.1899\n",
       "==============================================================================\n",
       "                 coef    std err          z      P>|z|      [0.025      0.975]\n",
       "------------------------------------------------------------------------------\n",
       "intercept     -1.9888      0.008   -246.669      0.000      -2.005      -1.973\n",
       "group         -0.0150      0.011     -1.311      0.190      -0.037       0.007\n",
       "==============================================================================\n",
       "\"\"\""
      ]
     },
     "execution_count": 33,
     "metadata": {},
     "output_type": "execute_result"
    }
   ],
   "source": [
    "# Instantiate and fit the regression model\n",
    "!pip install statsmodels\n",
    "import statsmodels.api as sm\n",
    "model = sm.Logit(df2['converted'], df2[['intercept','group']])\n",
    "result = model.fit()\n",
    "result.summary()"
   ]
  },
  {
   "cell_type": "markdown",
   "id": "520cbeec-c077-4162-b913-9174ced5a50c",
   "metadata": {},
   "source": [
    "**Findings**  \n",
    "After fitting the logistic regression model, the results were telling. The p-value for the group variable (indicating whether the user was in the treatment or control group) was 0.190. This is above the conventional threshold of 0.05, suggesting that the page a user lands on (new or old) does not significantly affect their likelihood of conversion. This finding aligns with the earlier results from the A/B testing, confirming that the new landing page does not drive more conversions."
   ]
  },
  {
   "cell_type": "markdown",
   "id": "a108c6c0-3150-4b12-9c59-65fd250cbe45",
   "metadata": {},
   "source": [
    "### Logistic Regression - Multivariate\n",
    "Recognizing that user behavior could be influenced by factors beyond just the landing page, I introduced the user’s country as an additional variable in the model based on the hypothesis that cultural or regional differences might play a role in conversion rates. After merging country data with the primary dataset, dummy variables are created for the countries—Canada (CA), the United Kingdom (UK), and the United States (US)."
   ]
  },
  {
   "cell_type": "code",
   "execution_count": 34,
   "id": "51abd3e9-9276-48f3-aed3-32ec73708076",
   "metadata": {},
   "outputs": [
    {
     "data": {
      "text/html": [
       "<div>\n",
       "<style scoped>\n",
       "    .dataframe tbody tr th:only-of-type {\n",
       "        vertical-align: middle;\n",
       "    }\n",
       "\n",
       "    .dataframe tbody tr th {\n",
       "        vertical-align: top;\n",
       "    }\n",
       "\n",
       "    .dataframe thead th {\n",
       "        text-align: right;\n",
       "    }\n",
       "</style>\n",
       "<table border=\"1\" class=\"dataframe\">\n",
       "  <thead>\n",
       "    <tr style=\"text-align: right;\">\n",
       "      <th></th>\n",
       "      <th>id</th>\n",
       "      <th>country</th>\n",
       "    </tr>\n",
       "  </thead>\n",
       "  <tbody>\n",
       "    <tr>\n",
       "      <th>0</th>\n",
       "      <td>834778</td>\n",
       "      <td>UK</td>\n",
       "    </tr>\n",
       "    <tr>\n",
       "      <th>1</th>\n",
       "      <td>928468</td>\n",
       "      <td>US</td>\n",
       "    </tr>\n",
       "    <tr>\n",
       "      <th>2</th>\n",
       "      <td>822059</td>\n",
       "      <td>UK</td>\n",
       "    </tr>\n",
       "    <tr>\n",
       "      <th>3</th>\n",
       "      <td>711597</td>\n",
       "      <td>UK</td>\n",
       "    </tr>\n",
       "    <tr>\n",
       "      <th>4</th>\n",
       "      <td>710616</td>\n",
       "      <td>UK</td>\n",
       "    </tr>\n",
       "  </tbody>\n",
       "</table>\n",
       "</div>"
      ],
      "text/plain": [
       "       id country\n",
       "0  834778      UK\n",
       "1  928468      US\n",
       "2  822059      UK\n",
       "3  711597      UK\n",
       "4  710616      UK"
      ]
     },
     "execution_count": 34,
     "metadata": {},
     "output_type": "execute_result"
    }
   ],
   "source": [
    "# Read the country data\n",
    "countries = pd.read_csv(\"C:/Users/lkaur/Downloads/countries_abtest/countries_ab.csv\")\n",
    "countries.head()"
   ]
  },
  {
   "cell_type": "code",
   "execution_count": 35,
   "id": "6999b741-cc7a-4569-84d4-969548eae378",
   "metadata": {},
   "outputs": [],
   "source": [
    "# Merge the countries dataframe with df2 \n",
    "countries.columns = [\"user_id\", \"country\"]\n",
    "countries[\"user_id\"] = countries[\"user_id\"].astype(int)\n",
    "df3 = df2.merge(countries, on = \"user_id\", how = \"left\")\n",
    "df3.head()"
   ]
  },
  {
   "cell_type": "code",
   "execution_count": 42,
   "id": "994f5ce1-a08d-4aad-9931-16114dabc46e",
   "metadata": {},
   "outputs": [
    {
     "data": {
      "text/html": [
       "<div>\n",
       "<style scoped>\n",
       "    .dataframe tbody tr th:only-of-type {\n",
       "        vertical-align: middle;\n",
       "    }\n",
       "\n",
       "    .dataframe tbody tr th {\n",
       "        vertical-align: top;\n",
       "    }\n",
       "\n",
       "    .dataframe thead th {\n",
       "        text-align: right;\n",
       "    }\n",
       "</style>\n",
       "<table border=\"1\" class=\"dataframe\">\n",
       "  <thead>\n",
       "    <tr style=\"text-align: right;\">\n",
       "      <th></th>\n",
       "      <th>user_id</th>\n",
       "      <th>time</th>\n",
       "      <th>group</th>\n",
       "      <th>landing_page</th>\n",
       "      <th>converted</th>\n",
       "      <th>intercept</th>\n",
       "      <th>country</th>\n",
       "      <th>CA</th>\n",
       "      <th>UK</th>\n",
       "      <th>US</th>\n",
       "    </tr>\n",
       "  </thead>\n",
       "  <tbody>\n",
       "    <tr>\n",
       "      <th>0</th>\n",
       "      <td>851104</td>\n",
       "      <td>00:11:48.600000</td>\n",
       "      <td>0</td>\n",
       "      <td>0</td>\n",
       "      <td>0</td>\n",
       "      <td>1</td>\n",
       "      <td>US</td>\n",
       "      <td>0</td>\n",
       "      <td>0</td>\n",
       "      <td>1</td>\n",
       "    </tr>\n",
       "    <tr>\n",
       "      <th>1</th>\n",
       "      <td>804228</td>\n",
       "      <td>00:01:45.200000</td>\n",
       "      <td>0</td>\n",
       "      <td>0</td>\n",
       "      <td>0</td>\n",
       "      <td>1</td>\n",
       "      <td>US</td>\n",
       "      <td>0</td>\n",
       "      <td>0</td>\n",
       "      <td>1</td>\n",
       "    </tr>\n",
       "    <tr>\n",
       "      <th>2</th>\n",
       "      <td>661590</td>\n",
       "      <td>00:55:06.200000</td>\n",
       "      <td>1</td>\n",
       "      <td>1</td>\n",
       "      <td>0</td>\n",
       "      <td>1</td>\n",
       "      <td>US</td>\n",
       "      <td>0</td>\n",
       "      <td>0</td>\n",
       "      <td>1</td>\n",
       "    </tr>\n",
       "    <tr>\n",
       "      <th>3</th>\n",
       "      <td>853541</td>\n",
       "      <td>00:28:03.100000</td>\n",
       "      <td>1</td>\n",
       "      <td>1</td>\n",
       "      <td>0</td>\n",
       "      <td>1</td>\n",
       "      <td>US</td>\n",
       "      <td>0</td>\n",
       "      <td>0</td>\n",
       "      <td>1</td>\n",
       "    </tr>\n",
       "    <tr>\n",
       "      <th>4</th>\n",
       "      <td>864975</td>\n",
       "      <td>00:52:26.200000</td>\n",
       "      <td>0</td>\n",
       "      <td>0</td>\n",
       "      <td>1</td>\n",
       "      <td>1</td>\n",
       "      <td>US</td>\n",
       "      <td>0</td>\n",
       "      <td>0</td>\n",
       "      <td>1</td>\n",
       "    </tr>\n",
       "  </tbody>\n",
       "</table>\n",
       "</div>"
      ],
      "text/plain": [
       "   user_id             time  group  landing_page  converted  intercept  \\\n",
       "0   851104  00:11:48.600000      0             0          0          1   \n",
       "1   804228  00:01:45.200000      0             0          0          1   \n",
       "2   661590  00:55:06.200000      1             1          0          1   \n",
       "3   853541  00:28:03.100000      1             1          0          1   \n",
       "4   864975  00:52:26.200000      0             0          1          1   \n",
       "\n",
       "  country  CA  UK  US  \n",
       "0      US   0   0   1  \n",
       "1      US   0   0   1  \n",
       "2      US   0   0   1  \n",
       "3      US   0   0   1  \n",
       "4      US   0   0   1  "
      ]
     },
     "execution_count": 42,
     "metadata": {},
     "output_type": "execute_result"
    }
   ],
   "source": [
    "# creating dummies for country and landing_page columns \n",
    "df3[['CA','UK','US']] = pd.get_dummies(df3['country'])\n",
    "df3[['CA', 'UK', 'US']] = df3[['CA', 'UK', 'US']].astype(int)\n",
    "df3.head()"
   ]
  },
  {
   "cell_type": "code",
   "execution_count": 43,
   "id": "b2ebb9cd-b338-4dcc-84c6-d65c9f183428",
   "metadata": {},
   "outputs": [
    {
     "data": {
      "text/html": [
       "<div>\n",
       "<style scoped>\n",
       "    .dataframe tbody tr th:only-of-type {\n",
       "        vertical-align: middle;\n",
       "    }\n",
       "\n",
       "    .dataframe tbody tr th {\n",
       "        vertical-align: top;\n",
       "    }\n",
       "\n",
       "    .dataframe thead th {\n",
       "        text-align: right;\n",
       "    }\n",
       "</style>\n",
       "<table border=\"1\" class=\"dataframe\">\n",
       "  <thead>\n",
       "    <tr style=\"text-align: right;\">\n",
       "      <th></th>\n",
       "      <th>converted</th>\n",
       "    </tr>\n",
       "    <tr>\n",
       "      <th>country</th>\n",
       "      <th></th>\n",
       "    </tr>\n",
       "  </thead>\n",
       "  <tbody>\n",
       "    <tr>\n",
       "      <th>UK</th>\n",
       "      <td>12.059449</td>\n",
       "    </tr>\n",
       "    <tr>\n",
       "      <th>US</th>\n",
       "      <td>11.954680</td>\n",
       "    </tr>\n",
       "    <tr>\n",
       "      <th>CA</th>\n",
       "      <td>11.531830</td>\n",
       "    </tr>\n",
       "  </tbody>\n",
       "</table>\n",
       "</div>"
      ],
      "text/plain": [
       "         converted\n",
       "country           \n",
       "UK       12.059449\n",
       "US       11.954680\n",
       "CA       11.531830"
      ]
     },
     "execution_count": 43,
     "metadata": {},
     "output_type": "execute_result"
    }
   ],
   "source": [
    "# lest see if there is a relation between country and conversion\n",
    "pd.pivot_table(data = df3, index = \"country\", values = \"converted\").sort_values(by = \"converted\", ascending = False) * 100"
   ]
  },
  {
   "cell_type": "markdown",
   "id": "f3ce0745-1193-457b-b420-965f2d270028",
   "metadata": {},
   "source": [
    "**Initial Findings**  \n",
    "Interestingly, the relationship between country and conversion rate have only minor differences. This suggests that country might have a negligible impact on conversion, but this should be confirmed through regression."
   ]
  },
  {
   "cell_type": "code",
   "execution_count": 44,
   "id": "22902b72-db22-40f8-95a3-03c42945ab03",
   "metadata": {},
   "outputs": [
    {
     "name": "stdout",
     "output_type": "stream",
     "text": [
      "Optimization terminated successfully.\n",
      "         Current function value: 0.366113\n",
      "         Iterations 6\n"
     ]
    },
    {
     "data": {
      "text/html": [
       "<table class=\"simpletable\">\n",
       "<caption>Logit Regression Results</caption>\n",
       "<tr>\n",
       "  <th>Dep. Variable:</th>       <td>converted</td>    <th>  No. Observations:  </th>   <td>290584</td>   \n",
       "</tr>\n",
       "<tr>\n",
       "  <th>Model:</th>                 <td>Logit</td>      <th>  Df Residuals:      </th>   <td>290580</td>   \n",
       "</tr>\n",
       "<tr>\n",
       "  <th>Method:</th>                 <td>MLE</td>       <th>  Df Model:          </th>   <td>     3</td>   \n",
       "</tr>\n",
       "<tr>\n",
       "  <th>Date:</th>            <td>Mon, 19 Aug 2024</td> <th>  Pseudo R-squ.:     </th>  <td>2.323e-05</td> \n",
       "</tr>\n",
       "<tr>\n",
       "  <th>Time:</th>                <td>17:04:00</td>     <th>  Log-Likelihood:    </th> <td>-1.0639e+05</td>\n",
       "</tr>\n",
       "<tr>\n",
       "  <th>converged:</th>             <td>True</td>       <th>  LL-Null:           </th> <td>-1.0639e+05</td>\n",
       "</tr>\n",
       "<tr>\n",
       "  <th>Covariance Type:</th>     <td>nonrobust</td>    <th>  LLR p-value:       </th>   <td>0.1760</td>   \n",
       "</tr>\n",
       "</table>\n",
       "<table class=\"simpletable\">\n",
       "<tr>\n",
       "        <td></td>          <th>coef</th>     <th>std err</th>      <th>z</th>      <th>P>|z|</th>  <th>[0.025</th>    <th>0.975]</th>  \n",
       "</tr>\n",
       "<tr>\n",
       "  <th>intercept</th>    <td>   -2.0300</td> <td>    0.027</td> <td>  -76.249</td> <td> 0.000</td> <td>   -2.082</td> <td>   -1.978</td>\n",
       "</tr>\n",
       "<tr>\n",
       "  <th>landing_page</th> <td>   -0.0149</td> <td>    0.011</td> <td>   -1.307</td> <td> 0.191</td> <td>   -0.037</td> <td>    0.007</td>\n",
       "</tr>\n",
       "<tr>\n",
       "  <th>UK</th>           <td>    0.0506</td> <td>    0.028</td> <td>    1.784</td> <td> 0.074</td> <td>   -0.005</td> <td>    0.106</td>\n",
       "</tr>\n",
       "<tr>\n",
       "  <th>US</th>           <td>    0.0408</td> <td>    0.027</td> <td>    1.516</td> <td> 0.130</td> <td>   -0.012</td> <td>    0.093</td>\n",
       "</tr>\n",
       "</table>"
      ],
      "text/latex": [
       "\\begin{center}\n",
       "\\begin{tabular}{lclc}\n",
       "\\toprule\n",
       "\\textbf{Dep. Variable:}   &    converted     & \\textbf{  No. Observations:  } &    290584    \\\\\n",
       "\\textbf{Model:}           &      Logit       & \\textbf{  Df Residuals:      } &    290580    \\\\\n",
       "\\textbf{Method:}          &       MLE        & \\textbf{  Df Model:          } &         3    \\\\\n",
       "\\textbf{Date:}            & Mon, 19 Aug 2024 & \\textbf{  Pseudo R-squ.:     } &  2.323e-05   \\\\\n",
       "\\textbf{Time:}            &     17:04:00     & \\textbf{  Log-Likelihood:    } & -1.0639e+05  \\\\\n",
       "\\textbf{converged:}       &       True       & \\textbf{  LL-Null:           } & -1.0639e+05  \\\\\n",
       "\\textbf{Covariance Type:} &    nonrobust     & \\textbf{  LLR p-value:       } &    0.1760    \\\\\n",
       "\\bottomrule\n",
       "\\end{tabular}\n",
       "\\begin{tabular}{lcccccc}\n",
       "                       & \\textbf{coef} & \\textbf{std err} & \\textbf{z} & \\textbf{P$> |$z$|$} & \\textbf{[0.025} & \\textbf{0.975]}  \\\\\n",
       "\\midrule\n",
       "\\textbf{intercept}     &      -2.0300  &        0.027     &   -76.249  &         0.000        &       -2.082    &       -1.978     \\\\\n",
       "\\textbf{landing\\_page} &      -0.0149  &        0.011     &    -1.307  &         0.191        &       -0.037    &        0.007     \\\\\n",
       "\\textbf{UK}            &       0.0506  &        0.028     &     1.784  &         0.074        &       -0.005    &        0.106     \\\\\n",
       "\\textbf{US}            &       0.0408  &        0.027     &     1.516  &         0.130        &       -0.012    &        0.093     \\\\\n",
       "\\bottomrule\n",
       "\\end{tabular}\n",
       "%\\caption{Logit Regression Results}\n",
       "\\end{center}"
      ],
      "text/plain": [
       "<class 'statsmodels.iolib.summary.Summary'>\n",
       "\"\"\"\n",
       "                           Logit Regression Results                           \n",
       "==============================================================================\n",
       "Dep. Variable:              converted   No. Observations:               290584\n",
       "Model:                          Logit   Df Residuals:                   290580\n",
       "Method:                           MLE   Df Model:                            3\n",
       "Date:                Mon, 19 Aug 2024   Pseudo R-squ.:               2.323e-05\n",
       "Time:                        17:04:00   Log-Likelihood:            -1.0639e+05\n",
       "converged:                       True   LL-Null:                   -1.0639e+05\n",
       "Covariance Type:            nonrobust   LLR p-value:                    0.1760\n",
       "================================================================================\n",
       "                   coef    std err          z      P>|z|      [0.025      0.975]\n",
       "--------------------------------------------------------------------------------\n",
       "intercept       -2.0300      0.027    -76.249      0.000      -2.082      -1.978\n",
       "landing_page    -0.0149      0.011     -1.307      0.191      -0.037       0.007\n",
       "UK               0.0506      0.028      1.784      0.074      -0.005       0.106\n",
       "US               0.0408      0.027      1.516      0.130      -0.012       0.093\n",
       "================================================================================\n",
       "\"\"\""
      ]
     },
     "execution_count": 44,
     "metadata": {},
     "output_type": "execute_result"
    }
   ],
   "source": [
    "# Instantiate and fit the regression model with country as an additional variable: 'CA' is a baseline\n",
    "model = sm.Logit(df3['converted'], df3[['intercept','landing_page', 'UK','US']])\n",
    "result = model.fit()\n",
    "result.summary()"
   ]
  },
  {
   "cell_type": "code",
   "execution_count": 45,
   "id": "5ae2c2ec-b600-410b-80aa-03fad8b98ded",
   "metadata": {},
   "outputs": [
    {
     "data": {
      "text/plain": [
       "intercept       0.131332\n",
       "landing_page    0.985168\n",
       "UK              1.051944\n",
       "US              1.041599\n",
       "dtype: float64"
      ]
     },
     "execution_count": 45,
     "metadata": {},
     "output_type": "execute_result"
    }
   ],
   "source": [
    "# exponentiate the parameters to inteprete the result\n",
    "np.exp(result.params)"
   ]
  },
  {
   "cell_type": "markdown",
   "id": "086f206e-53ff-4152-88cb-0bd83e11e718",
   "metadata": {},
   "source": [
    "**Findings**  \n",
    "The results were consistent: none of the coefficients, except the intercept, were statistically significant. This reinforces the earlier conclusion made that the treatment page had no substantial impact on conversion rates, even when accounting for the user’s country."
   ]
  },
  {
   "cell_type": "markdown",
   "id": "b9c54c64-f17e-48f3-8167-efcb776bec33",
   "metadata": {},
   "source": [
    "## Conclusion\n",
    "This analysis, conducted through three distinct methods—Simple Conversion Analysis, One-Tailed T-Test (A/B Test), and logistic regression—reached a unanimous conclusion: the new landing page does not lead to a higher conversion rate. This insight provides clear guidance for decision-making, affirming that, at least in this context, the new landing page does not offer an advantage over the existing one."
   ]
  },
  {
   "cell_type": "markdown",
   "id": "5b89e81c-390f-4242-855e-8df335ad6b0c",
   "metadata": {},
   "source": [
    "## Shortcomings\n",
    "While this analysis offers valuable insights, it's important to acknowledge certain shortcomings, particularly the delayed examination of p-values. By not evaluating p-values step by step as the data was processed, we risk overlooking early indications of statistical significance. This approach can obscure the real-time understanding of when and how variables become significant, potentially leading to missed insights.\n",
    "\n",
    "Moreover, the omission of step-by-step p-value analysis can also introduce risks related to overfitting, where the model becomes too complex to generalize well to new data. Adding variables such as the time of conversion might have provided additional insights but would also have made the model more complicated and less interpretable, potentially leading to less actionable outcomes. \n",
    "\n",
    "Nonetheless, this comprehensive approach provides a solid foundation for making informed decisions about landing page designs and their potential impact on key business metrics."
   ]
  }
 ],
 "metadata": {
  "kernelspec": {
   "display_name": "Python 3 (ipykernel)",
   "language": "python",
   "name": "python3"
  },
  "language_info": {
   "codemirror_mode": {
    "name": "ipython",
    "version": 3
   },
   "file_extension": ".py",
   "mimetype": "text/x-python",
   "name": "python",
   "nbconvert_exporter": "python",
   "pygments_lexer": "ipython3",
   "version": "3.12.1"
  }
 },
 "nbformat": 4,
 "nbformat_minor": 5
}
